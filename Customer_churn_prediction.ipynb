{
 "cells": [
  {
   "cell_type": "markdown",
   "id": "d4825faa",
   "metadata": {},
   "source": [
    "# <font color = 'red'> Bank customer churn analysis and prediction for bank<font/>"
   ]
  },
  {
   "cell_type": "markdown",
   "id": "b192dcc2",
   "metadata": {},
   "source": [
    "#### This dataset ranks people by churn or not churn, our goal here is to predict which customers will churn.\n",
    "#### Here we will use the \"Customer-Churn-Records.csv\" database that has been made available for use, below you will see an analysis of the data, the processing of this data and the use of the learning classification of machine models to achieve our goal."
   ]
  },
  {
   "cell_type": "markdown",
   "id": "fa9f9f1b",
   "metadata": {},
   "source": [
    "<font color = 'blue'>**1. Importing libraries and taking a view of the data**<font/>"
   ]
  },
  {
   "cell_type": "code",
   "execution_count": 1,
   "id": "0f9e2f10",
   "metadata": {},
   "outputs": [],
   "source": [
    "import pandas as pd\n",
    "import numpy as np\n",
    "import matplotlib.pyplot as plt\n",
    "import seaborn as sns\n",
    "\n",
    "from sklearn import metrics\n",
    "from sklearn.model_selection import  train_test_split\n",
    "from sklearn.ensemble import AdaBoostClassifier\n",
    "from sklearn.tree import DecisionTreeClassifier\n",
    "from sklearn.linear_model import LogisticRegression\n",
    "from sklearn.ensemble import GradientBoostingClassifier\n",
    "from sklearn. model_selection import GridSearchCV"
   ]
  },
  {
   "cell_type": "code",
   "execution_count": 2,
   "id": "5bc00b49",
   "metadata": {},
   "outputs": [],
   "source": [
    "df = pd.read_csv('datasets/Customer-Churn-Records.csv')\n",
    "df.head()"
   ]
  },
  {
   "cell_type": "markdown",
   "id": "0aac98da",
   "metadata": {},
   "source": [
    "#### Columns description\n",
    "- RowNumber: corresponds to the record (row) number and has no effect on the output.\n",
    "- CustomerId: contains random values and has no effect on customer leaving the bank.\n",
    "- Surname: the surname of a customer has no impact on their decision to leave the bank.\n",
    "- CreditScore: can have an effect on customer churn, since a customer with a higher credit score is less likely to leave the bank.\n",
    "- Geography: a customer’s location can affect their decision to leave the bank.\n",
    "- Gender: it’s interesting to explore whether gender plays a role in a customer leaving the bank.\n",
    "- Age: this is certainly relevant, since older customers are less likely to leave their bank than younger ones.\n",
    "- Tenure: refers to the number of years that the customer has been a client of the bank. Normally, older clients are more loyal and less likely to leave a bank.\n",
    "- Balance: also a very good indicator of customer churn, as people with a higher balance in their accounts are less likely to leave the bank compared to those with lower balances.\n",
    "- NumOfProducts: refers to the number of products that a customer has purchased through the bank.\n",
    "- HasCrCard: denotes whether or not a customer has a credit card. This column is also relevant, since people with a credit card are less likely to leave the bank.\n",
    "- IsActiveMember: active customers are less likely to leave the bank.\n",
    "- EstimatedSalary: as with balance, people with lower salaries are more likely to leave the bank compared to those with higher salaries.\n",
    "- Exited: whether or not the customer left the bank.\n",
    "- Complain: customer has complaint or not.\n",
    "- Satisfaction Score: Score provided by the customer for their complaint resolution.\n",
    "- Card Type: type of card hold by the customer.\n",
    "- Points Earned: the points earned by the customer for using credit card."
   ]
  },
  {
   "cell_type": "code",
   "execution_count": 3,
   "id": "4a5cdb76",
   "metadata": {},
   "outputs": [],
   "source": [
    "#checking for null values\n",
    "df.isnull().sum()"
   ]
  },
  {
   "cell_type": "markdown",
   "id": "f4528675",
   "metadata": {},
   "source": [
    "<font color='blue'> There are no columns with missing values <font/>"
   ]
  },
  {
   "cell_type": "code",
   "execution_count": 4,
   "id": "f810c212",
   "metadata": {},
   "outputs": [],
   "source": [
    "df.info()"
   ]
  },
  {
   "cell_type": "markdown",
   "id": "76ef4060",
   "metadata": {},
   "source": [
    "<font color='blue'> The dataset has 18 columns and 10000 non-null rows <font/>"
   ]
  },
  {
   "cell_type": "code",
   "execution_count": 5,
   "id": "65a4695e",
   "metadata": {},
   "outputs": [],
   "source": [
    "df.nunique()"
   ]
  },
  {
   "cell_type": "markdown",
   "id": "267fc30d",
   "metadata": {},
   "source": [
    "- <font color= 'blue'>From the above output it can be seen that most of the columns seem to be categorical variables subject to further analysis.<font/>"
   ]
  },
  {
   "cell_type": "code",
   "execution_count": 6,
   "id": "d7de6941",
   "metadata": {},
   "outputs": [],
   "source": [
    "#check for presence of duplicates\n",
    "df.loc[df.duplicated()]"
   ]
  },
  {
   "cell_type": "markdown",
   "id": "61fcf088",
   "metadata": {},
   "source": [
    "- no duplicates detected"
   ]
  },
  {
   "cell_type": "markdown",
   "id": "e7094f11",
   "metadata": {},
   "source": [
    "### 2. Data Processing"
   ]
  },
  {
   "cell_type": "code",
   "execution_count": 7,
   "id": "c252015a",
   "metadata": {},
   "outputs": [],
   "source": [
    "# drop columns that do not provide import infomation to the processig i.e RowNumber, CustomerId, Surname\n",
    "df.drop(['RowNumber', 'CustomerId', 'Surname'], axis =1, inplace=True)"
   ]
  },
  {
   "cell_type": "code",
   "execution_count": 8,
   "id": "a812241b",
   "metadata": {},
   "outputs": [],
   "source": [
    "df[\"Exited\"].value_counts()/len(df)"
   ]
  },
  {
   "cell_type": "markdown",
   "id": "dfc77793",
   "metadata": {},
   "source": [
    "- 20% of the customers churn"
   ]
  },
  {
   "cell_type": "code",
   "execution_count": 9,
   "id": "e35fa1e9",
   "metadata": {},
   "outputs": [],
   "source": [
    "sns.countplot(x = 'Geography', data= df, hue='Exited' )"
   ]
  },
  {
   "cell_type": "code",
   "execution_count": 10,
   "id": "fbbca539",
   "metadata": {},
   "outputs": [],
   "source": [
    "df.groupby('Geography').sum()['Exited']"
   ]
  },
  {
   "cell_type": "code",
   "execution_count": null,
   "id": "bc79d31b",
   "metadata": {},
   "outputs": [],
   "source": [
    "\n"
   ]
  },
  {
   "cell_type": "code",
   "execution_count": 11,
   "id": "69e6bed5",
   "metadata": {},
   "outputs": [],
   "source": [
    "#checking categorical variables\n",
    "output = []\n",
    "for col in df.columns:\n",
    "    output.append({'columns': col, 'unique_labels': len(df[col].unique())})\n",
    "\n",
    "output_df = pd.DataFrame(output)\n",
    "output_df"
   ]
  },
  {
   "cell_type": "code",
   "execution_count": 12,
   "id": "c3823605",
   "metadata": {},
   "outputs": [],
   "source": [
    "full_df = pd.get_dummies(df,drop_first= True, dtype= int)\n",
    "full_df.head()"
   ]
  },
  {
   "cell_type": "code",
   "execution_count": 13,
   "id": "ee4130a0",
   "metadata": {},
   "outputs": [],
   "source": [
    "X = full_df.drop(columns=['Exited'])\n",
    "y = full_df['Exited']"
   ]
  },
  {
   "cell_type": "code",
   "execution_count": 14,
   "id": "1742a7f2",
   "metadata": {},
   "outputs": [],
   "source": [
    "X_train, X_test, y_train, y_test = train_test_split(X, y, test_size= 0.2, random_state=42)"
   ]
  },
  {
   "cell_type": "code",
   "execution_count": 15,
   "id": "3fc9169f",
   "metadata": {},
   "outputs": [],
   "source": [
    "print('X_train.shape :', X_train.shape, \"\\n\"\n",
    "     'X_test.shape:', X_test.shape, '\\n',\n",
    "     'y_train.shape:', y_train.shape, '\\n',\n",
    "     'y_test.shape:', y_test.shape )\n"
   ]
  },
  {
   "cell_type": "markdown",
   "id": "a3000cf5",
   "metadata": {},
   "source": [
    "##### using adaboost to train the model"
   ]
  },
  {
   "cell_type": "code",
   "execution_count": 16,
   "id": "9c0b4586",
   "metadata": {},
   "outputs": [],
   "source": [
    "#create adaboost classifier\n",
    "adaModel = AdaBoostClassifier(n_estimators=50, learning_rate= 1)"
   ]
  },
  {
   "cell_type": "code",
   "execution_count": 17,
   "id": "88da7ddd",
   "metadata": {},
   "outputs": [],
   "source": [
    "#train adaboost classifier\n",
    "model = adaModel.fit(X_train, y_train)\n",
    "\n",
    "#predict\n",
    "y_pred = model.predict(X_test)"
   ]
  },
  {
   "cell_type": "code",
   "execution_count": 18,
   "id": "3d7b4f93",
   "metadata": {},
   "outputs": [],
   "source": [
    "print('accuracy:', metrics.accuracy_score(y_test, y_pred))"
   ]
  },
  {
   "cell_type": "markdown",
   "id": "838deb90",
   "metadata": {},
   "source": [
    "- Adaboost had an accuracy of 99.85% which may be a possible overfitting case"
   ]
  },
  {
   "cell_type": "markdown",
   "id": "79b3a45d",
   "metadata": {},
   "source": [
    "#### using logistic regression"
   ]
  },
  {
   "cell_type": "code",
   "execution_count": 19,
   "id": "b1125f0b",
   "metadata": {},
   "outputs": [],
   "source": [
    "#create logistic regression classifier\n",
    "Logreg = LogisticRegression(max_iter= 1000)\n"
   ]
  },
  {
   "cell_type": "code",
   "execution_count": 20,
   "id": "f7d3d300",
   "metadata": {},
   "outputs": [],
   "source": [
    "#train logistic regression classifier\n",
    "logmodel = Logreg.fit(X_train, y_train)\n",
    "\n",
    "#predict\n",
    "log_pred = logmodel.predict(X_test)"
   ]
  },
  {
   "cell_type": "code",
   "execution_count": 21,
   "id": "64d5831c",
   "metadata": {},
   "outputs": [],
   "source": [
    "print('accuracy:', metrics.accuracy_score(y_test, log_pred))"
   ]
  },
  {
   "cell_type": "markdown",
   "id": "cef5e3df",
   "metadata": {},
   "source": [
    "- logistic regression had an accuracy score of 79.9%"
   ]
  },
  {
   "cell_type": "markdown",
   "id": "afe9259e",
   "metadata": {},
   "source": [
    "### Using logistic regression as the base estimator for the adaboost"
   ]
  },
  {
   "cell_type": "code",
   "execution_count": 22,
   "id": "f768bbbe",
   "metadata": {},
   "outputs": [],
   "source": [
    "#creating the classifier\n",
    "adaModel_log = AdaBoostClassifier(n_estimators= 150, estimator= Logreg, learning_rate=2)"
   ]
  },
  {
   "cell_type": "code",
   "execution_count": 23,
   "id": "33f3f5fe",
   "metadata": {},
   "outputs": [],
   "source": [
    "#train the model\n",
    "ada_log_model = adaModel_log.fit(X_train, y_train)\n",
    "\n",
    "#predict\n",
    "ada_log_pred = ada_log_model.predict(X_test)"
   ]
  },
  {
   "cell_type": "code",
   "execution_count": 24,
   "id": "5a20e110",
   "metadata": {},
   "outputs": [],
   "source": [
    "print('accuracy:', metrics.accuracy_score(y_test, ada_log_pred))"
   ]
  },
  {
   "cell_type": "markdown",
   "id": "3aa5c3b5",
   "metadata": {},
   "source": [
    "- adaboost with logistic regression as the base model had an accuracy score of 90.6%"
   ]
  },
  {
   "cell_type": "markdown",
   "id": "d1ec87d3",
   "metadata": {},
   "source": [
    "### using gradient boosting"
   ]
  },
  {
   "cell_type": "code",
   "execution_count": 25,
   "id": "124bf8e5",
   "metadata": {},
   "outputs": [],
   "source": [
    "gradient_classifier = GradientBoostingClassifier()\n",
    "\n",
    "#train\n",
    "gradient_classifier_model = gradient_classifier.fit(X_train, y_train)\n",
    "\n",
    "#predict\n",
    "gradient_classifier_pred = gradient_classifier_model.predict(X_test)\n"
   ]
  },
  {
   "cell_type": "code",
   "execution_count": 26,
   "id": "3876f72f",
   "metadata": {},
   "outputs": [],
   "source": [
    "print('accuracy:', metrics.accuracy_score(y_test, gradient_classifier_pred))"
   ]
  },
  {
   "cell_type": "code",
   "execution_count": 27,
   "id": "6e28b07b",
   "metadata": {},
   "outputs": [],
   "source": [
    "#plot feature impotance\n",
    "feature_impotance = gradient_classifier_model.feature_importances_\n",
    "\n",
    "#make feature impotance relative to max impotance\n",
    "feature_impotance = 100.0*(feature_impotance/ feature_impotance.max())\n",
    "sorted_idx = np.argsort(feature_impotance)\n",
    "pos = np.arange (sorted_idx.shape[0]) + .5\n",
    "\n",
    "plt.barh(pos, feature_impotance[sorted_idx], align='center')\n",
    "plt.yticks(pos, X.columns[sorted_idx])\n",
    "\n",
    "plt.xlabel('Relative Importance')\n",
    "plt.ylabel('Features')\n",
    "plt.title('Feature Importance Plot')\n",
    "                                \n"
   ]
  },
  {
   "cell_type": "markdown",
   "id": "e740c707",
   "metadata": {},
   "source": [
    "### hypeparameter tuning"
   ]
  },
  {
   "cell_type": "code",
   "execution_count": null,
   "id": "21b5adbb",
   "metadata": {},
   "outputs": [],
   "source": [
    "param_grid = {\n",
    "    'learning_rate': [0.1, 0.01, 0.001],\n",
    "    'n_estimators': [100, 200, 300],\n",
    "    #'max_depth': [3, 5, 7]\n",
    "}\n",
    "\n",
    "# Perform Grid Search with 5-fold cross-validation\n",
    "grid_search = GridSearchCV(gradient_classifier_model, param_grid, cv=5)\n",
    "grid_search.fit(X, y)\n",
    "\n",
    "# Print the best hyperparameters and the corresponding mean cross-validated score\n",
    "print(\"Best Hyperparameters:\", grid_search.best_params_)\n",
    "print(\"Best Score:\", grid_search.best_score_)\n",
    "\n"
   ]
  },
  {
   "cell_type": "code",
   "execution_count": null,
   "id": "33770251",
   "metadata": {},
   "outputs": [],
   "source": []
  }
 ],
 "metadata": {
  "kernelspec": {
   "display_name": "Python 3 (ipykernel)",
   "language": "python",
   "name": "python3"
  },
  "language_info": {
   "codemirror_mode": {
    "name": "ipython",
    "version": 3
   },
   "file_extension": ".py",
   "mimetype": "text/x-python",
   "name": "python",
   "nbconvert_exporter": "python",
   "pygments_lexer": "ipython3",
   "version": "3.10.9"
  }
 },
 "nbformat": 4,
 "nbformat_minor": 5
}
